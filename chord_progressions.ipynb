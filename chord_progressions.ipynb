{
 "cells": [
  {
   "cell_type": "code",
   "execution_count": 1,
   "id": "8f0d0b95",
   "metadata": {},
   "outputs": [],
   "source": [
    "import pandas as pd\n",
    "import re\n",
    "import ast\n",
    "from collections import defaultdict, Counter"
   ]
  },
  {
   "cell_type": "code",
   "execution_count": 2,
   "id": "14364b0d",
   "metadata": {},
   "outputs": [],
   "source": [
    "# Load the CSV file into a DataFrame\n",
    "file_path = 'UltimateGuitarTabs_chords.csv'\n",
    "df = pd.read_csv(file_path)\n",
    "\n",
    "df = df.drop(columns=['id', 'tonality', 'capo'])"
   ]
  },
  {
   "cell_type": "code",
   "execution_count": 3,
   "id": "2a735890",
   "metadata": {},
   "outputs": [],
   "source": [
    "# Create a new column to hold the parsed chords as lists\n",
    "df['parsed_chords'] = df['chords'].apply(lambda x: x.split(','))"
   ]
  },
  {
   "cell_type": "code",
   "execution_count": 4,
   "id": "0fbed7a6",
   "metadata": {},
   "outputs": [],
   "source": [
    "# Function to find repeating patterns with variable window size and immediate repetition constraint\n",
    "def find_immediate_repeating_patterns(chords, min_window_size=3, max_window_size=10):\n",
    "    # Initialize a list to hold the identified repeating patterns\n",
    "    repeating_patterns = []\n",
    "    \n",
    "    # Iterate through different window sizes starting from the largest\n",
    "    for window_size in range(max_window_size, min_window_size - 1, -1):\n",
    "        i = 0\n",
    "        while i < len(chords) - window_size + 1:\n",
    "            # Extract a subsequence using the current window size\n",
    "            subsequence = tuple(chords[i:i + window_size])\n",
    "            \n",
    "            # Check for immediate repetition\n",
    "            if chords[i:i + window_size] == chords[i + window_size:i + 2 * window_size]:\n",
    "                if subsequence not in repeating_patterns:\n",
    "                    repeating_patterns.append(subsequence)\n",
    "                \n",
    "                # Skip the repeated subsequences to avoid redundancy\n",
    "                i += window_size\n",
    "            else:\n",
    "                i += 1\n",
    "    \n",
    "    return repeating_patterns\n",
    "\n",
    "# Identify immediate repeating patterns for each song using the simplified parsed chords\n",
    "# Start with a max window size of 10 and iterate down to a min window size of 3\n",
    "df['chord_progressions'] = df['parsed_chords'].apply(\n",
    "    lambda x: find_immediate_repeating_patterns(x, min_window_size=3, max_window_size=10)\n",
    ")\n",
    "\n",
    "# Function to expand DataFrame rows based on immediate repeating patterns\n",
    "def expand_rows_based_on_patterns(row):\n",
    "    expanded_rows = []\n",
    "    for pattern in row['chord_progressions']:\n",
    "        new_row = row.copy()\n",
    "        new_row['chord_progression'] = list(pattern)\n",
    "        expanded_rows.append(new_row)\n",
    "    return expanded_rows\n",
    "\n",
    "# Expand DataFrame to create a new row for each identified chord progression within each song\n",
    "expanded_data_list = []\n",
    "for _, row in df.iterrows():\n",
    "    expanded_rows = expand_rows_based_on_patterns(row)\n",
    "    if expanded_rows:\n",
    "        expanded_data_list.append(pd.DataFrame(expanded_rows))\n",
    "\n",
    "# Concatenate all the DataFrames in the list into a single DataFrame\n",
    "df = pd.concat(expanded_data_list, ignore_index=True)\n"
   ]
  },
  {
   "cell_type": "code",
   "execution_count": 5,
   "id": "5619b78b",
   "metadata": {},
   "outputs": [],
   "source": [
    "# loop through and replace duplicated progressions with half until no duplicates are left\n",
    "for _ in range(100):\n",
    "    counter = 0\n",
    "    for i, row in df.iterrows():\n",
    "        chords = row['chord_progression']\n",
    "        if len(chords) == 1:\n",
    "            continue\n",
    "        if chords[:len(chords)//2] == chords[len(chords)//2:]:\n",
    "            df.at[i, 'chord_progression'] = chords[:len(chords)//2]\n",
    "            counter += 1\n",
    "    if counter == 0:\n",
    "        break"
   ]
  },
  {
   "cell_type": "code",
   "execution_count": 6,
   "id": "eeb7c8cf",
   "metadata": {},
   "outputs": [],
   "source": [
    "# Function to simplify chords to only include the root note and minor indication\n",
    "def simplify_chord(chord):\n",
    "    # Use regular expression to extract the root and minor indication\n",
    "    match = re.match(r\"([A-Ga-g])([#b])?(m)?\", chord)\n",
    "    if match:\n",
    "        return match.group(1) + (match.group(2) if match.group(2) else \"\") + (match.group(3) if match.group(3) else \"\")\n",
    "    return chord\n",
    "\n",
    "# Simplify chords and parse the chord sequences for each song again\n",
    "df['simplified_chord_progression'] = df['chord_progression'].apply(lambda chords: [simplify_chord(chord) for chord in chords])"
   ]
  },
  {
   "cell_type": "code",
   "execution_count": 7,
   "id": "af5fa40a",
   "metadata": {},
   "outputs": [],
   "source": [
    "# Define dictionaries for major and minor keys and their associated chords\n",
    "major_keys = {\n",
    "    'C': ['C', 'Dm', 'Em', 'F', 'G', 'Am', 'Bm'],\n",
    "    'G': ['G', 'Am', 'Bm', 'C', 'D', 'Em', 'F#m'],\n",
    "    'D': ['D', 'Em', 'F#m', 'G', 'A', 'Bm', 'C#m'],\n",
    "    'A': ['A', 'Bm', 'C#m', 'D', 'E', 'F#m', 'G#m'],\n",
    "    'E': ['E', 'F#m', 'G#m', 'A', 'B', 'C#m', 'D#m'],\n",
    "    'B': ['B', 'C#m', 'D#m', 'E', 'F#', 'G#m', 'A#m'],\n",
    "    'F#': ['F#', 'G#m', 'A#m', 'B', 'C#', 'D#m', 'E#m'],\n",
    "    'Db': ['Db', 'Ebm', 'Fm', 'Gb', 'Ab', 'Bbm', 'Cm'],\n",
    "    'Ab': ['Ab', 'Bbm', 'Cm', 'Db', 'Eb', 'Fm', 'Gm'],\n",
    "    'Eb': ['Eb', 'Fm', 'Gm', 'Ab', 'Bb', 'Cm', 'Dm'],\n",
    "    'Bb': ['Bb', 'Cm', 'Dm', 'Eb', 'F', 'Gm', 'Am'],\n",
    "    'F': ['F', 'Gm', 'Am', 'Bb', 'C', 'Dm', 'Em']\n",
    "}\n",
    "\n",
    "def identify_key(chord_progression):\n",
    "    \n",
    "    # Count the occurrences of each chord\n",
    "    chord_counts = Counter(chord_progression)\n",
    "    \n",
    "    # Initialize variables to store the most likely major and minor keys\n",
    "    likely_key = None\n",
    "    progression_length = len(chord_progression)\n",
    "    \n",
    "    # Check for exact match\n",
    "    for key, chords in major_keys.items():\n",
    "        if sum(chord_counts[chord] for chord in chords if chord in chord_counts) == progression_length:\n",
    "            if likely_key:\n",
    "                likely_key = key if key==chord_progression[0] else likely_key\n",
    "            else:\n",
    "                likely_key = key\n",
    "            \n",
    "    # Return a key if there is an exact match\n",
    "    if likely_key:\n",
    "        return likely_key\n",
    "    return 'Unknown'\n",
    "\n",
    "# Apply the updated identify_key function to each chord progression in the DataFrame\n",
    "df['key'] = df['simplified_chord_progression'].apply(identify_key)"
   ]
  },
  {
   "cell_type": "code",
   "execution_count": 8,
   "id": "13dc942a",
   "metadata": {},
   "outputs": [],
   "source": [
    "df_clean = df[['song', 'artist', 'chord_progression', 'key']]\n",
    "df_clean = df_clean[df_clean.key != \"Unknown\"].reset_index(drop=True)\n",
    "\n",
    "# backup clean chord progressions to pickle\n",
    "df_clean.to_csv('D:\\Code\\Python (D)\\Chord Progressions\\df_clean.csv')"
   ]
  },
  {
   "cell_type": "code",
   "execution_count": 9,
   "id": "d659738d",
   "metadata": {
    "scrolled": false
   },
   "outputs": [],
   "source": [
    "## Transpose and clean the name of the chord\n",
    "\n",
    "def clean_chordname(chord):\n",
    "    return chord.replace('(b5)', 'flat5').replace('(', '').replace(')', '')\n",
    "\n",
    "# Function to transpose a chord to the key of C, preserving any modifiers like 'm', 'sus4', etc.\n",
    "def transpose_chord_to_C(chord, original_key):\n",
    "    # Use regular expression to find the root note and any modifiers in the chord\n",
    "    # also need to transpose any notes found after a / character (called extra in this function)\n",
    "    match = re.match(r\"([A-Ga-g])([#b])?(m)?([^/]*)?(?:/)?([A-Ga-g])?([#b])?(m)?\", chord)\n",
    "    \n",
    "    root_note, accidental, minor, modifiers, extra_note, extra_accidental, extra_minor = match.groups()\n",
    "    \n",
    "    if not match:\n",
    "        return 'ERROR'\n",
    "    \n",
    "    root_chord = root_note\n",
    "    if accidental:\n",
    "        root_chord += accidental\n",
    "    if minor:\n",
    "        root_chord += minor\n",
    "    if extra_note:\n",
    "        extra_chord = extra_note\n",
    "        if extra_accidental:\n",
    "            extra_chord += extra_accidental\n",
    "        if extra_minor:\n",
    "            extra_chord += extra_minor\n",
    "    \n",
    "    # Get the list of chords for the original key and the key of C\n",
    "    original_key_chords = major_keys.get(original_key, [])\n",
    "    c_key_chords = major_keys['C']\n",
    "    \n",
    "    try:\n",
    "        # Find the index of the root chord in the original key\n",
    "        index = original_key_chords.index(root_chord)\n",
    "        # Find the corresponding chord in the key of C\n",
    "        transposed_root_chord = c_key_chords[index]\n",
    "        try:\n",
    "            if extra_note:\n",
    "                extra_index = original_key_chords.index(extra_chord)\n",
    "                transposed_extra_chord = c_key_chords[extra_index]\n",
    "        except ValueError:\n",
    "            # If the chord is not found in the original_key_chords, just keep the root_chord\n",
    "            return transposed_root_chord + modifiers\n",
    "    except ValueError:\n",
    "        print('ERROR:', chord)\n",
    "        # If the chord is not found in the original_key_chords, just keep the root_chord\n",
    "        transposed_root_chord = 'ERROR'\n",
    "    \n",
    "    # Re-append any modifiers to the transposed chord\n",
    "    transposed_chord = chord.replace(root_chord, transposed_root_chord, 1)\n",
    "    if extra_note:\n",
    "        transposed_chord = transposed_chord.replace(extra_chord, transposed_extra_chord, 1)\n",
    "    \n",
    "    return clean_chordname(transposed_chord)\n",
    "\n",
    "# Function to transpose an entire chord progression to the key of C\n",
    "def transpose_progression_to_C(chord_progression, original_key):\n",
    "    return [transpose_chord_to_C(chord, original_key) for chord in chord_progression]\n",
    "\n",
    "# Create a new column 'chord_progression_C_v2' that contains the improved transposed chord progressions\n",
    "df_clean['chord_progression_C'] = df_clean.apply(lambda row: transpose_progression_to_C(row['chord_progression'], row['key']), axis=1)\n"
   ]
  },
  {
   "cell_type": "code",
   "execution_count": 10,
   "id": "88a62634",
   "metadata": {},
   "outputs": [],
   "source": [
    "# backup clean chord progressions to pickle\n",
    "df_clean.to_pickle('df_clean.pickle')"
   ]
  },
  {
   "cell_type": "code",
   "execution_count": 11,
   "id": "ad8cb0c8",
   "metadata": {},
   "outputs": [],
   "source": [
    "# save an upsampled pickle\n",
    "how_many_rows = 100_000\n",
    "df_clean['chord_progression_C'].rename({'chord_progression_C':'chords'}).sample(frac=100_000/df_clean.shape[0], replace=True).to_pickle('chord_progressions.pickle')"
   ]
  },
  {
   "cell_type": "code",
   "execution_count": 12,
   "id": "bb01c31d",
   "metadata": {},
   "outputs": [
    {
     "data": {
      "text/plain": [
       "'5022 unique chord progressions out of 17000 total chord progressions'"
      ]
     },
     "execution_count": 12,
     "metadata": {},
     "output_type": "execute_result"
    }
   ],
   "source": [
    "# how many different chord progressions do we have?\n",
    "f\"{df_clean.chord_progression_C.astype('str').nunique()} unique chord progressions out of {df_clean.shape[0]} total chord progressions\""
   ]
  },
  {
   "cell_type": "code",
   "execution_count": 13,
   "id": "360e56e4",
   "metadata": {},
   "outputs": [
    {
     "data": {
      "text/plain": [
       "chord_progression_C\n",
       "['Am', 'F', 'C', 'G']    422\n",
       "['C', 'G', 'Am', 'F']    417\n",
       "['F', 'C', 'G']          286\n",
       "['F', 'C', 'G', 'Am']    243\n",
       "['F', 'G', 'C']          186\n",
       "['G', 'F', 'C']          184\n",
       "['G', 'Am', 'F', 'C']    167\n",
       "['C', 'G', 'F']          166\n",
       "['F', 'G', 'Am']         153\n",
       "['Am', 'G', 'F']         146\n",
       "['C', 'F']               140\n",
       "['C', 'F', 'G']          137\n",
       "['Am', 'F', 'G']         134\n",
       "['C', 'Am', 'F', 'G']    125\n",
       "['C', 'G']               109\n",
       "['F', 'Am', 'G']         109\n",
       "['C', 'C', 'C']          102\n",
       "['G', 'C', 'F']           99\n",
       "['Em', 'C', 'G']          94\n",
       "['Dm', 'F', 'C', 'G']     91\n",
       "Name: count, dtype: int64"
      ]
     },
     "execution_count": 13,
     "metadata": {},
     "output_type": "execute_result"
    }
   ],
   "source": [
    "# most common chord progressions\n",
    "df_clean.chord_progression_C.astype('str').value_counts().head(20)"
   ]
  },
  {
   "cell_type": "code",
   "execution_count": 16,
   "id": "18c8fcb7",
   "metadata": {
    "scrolled": false
   },
   "outputs": [
    {
     "name": "stdout",
     "output_type": "stream",
     "text": [
      "Am      \tAm/F    \tAm11    \tAm6     \tAm7     \tAm7/G   \tAm7add11\tAm9     \t\n",
      "Amadd9  \tAmaj7   \tAmmaj7  \tBm      \tBm11    \tBm6     \tBm7     \tBm9     \t\n",
      "Bmaj7   \tBmmaj7  \tC       \tC/G     \tC2      \tC4      \tC5      \tC6      \t\n",
      "C6add11 \tC7      \tC7add11 \tC7sus2  \tC7sus4  \tC9      \tCadd#11 \tCadd11  \t\n",
      "Cadd2   \tCadd4   \tCadd9   \tCaug    \tCdim    \tCflat5  \tCsus    \tCsus2   \t\n",
      "Csus4   \tDm      \tDm11    \tDm13    \tDm6     \tDm7     \tDm7/G   \tDm7add11\t\n",
      "Dm9     \tDmadd9  \tDmaj    \tDmaj7   \tDmaj9   \tEm      \tEm6     \tEm7     \t\n",
      "Em9     \tEmadd9  \tEmaj7   \tEmaj9   \tF       \tF/G     \tF2      \tF5      \t\n",
      "F6      \tF6add9  \tF6sus2  \tF7      \tF9      \tF9b5    \tFadd#11 \tFadd2   \t\n",
      "Fadd4   \tFadd9   \tFdim    \tFflat5  \tFsus    \tFsus2   \tFsus4   \tG       \t\n",
      "G/C     \tG11     \tG13     \tG2      \tG4      \tG5      \tG6      \tG6add11 \t\n",
      "G6sus2  \tG7      \tG7b9    \tG7sus   \tG7sus2  \tG7sus4  \tG9      \tGadd11  \t\n",
      "Gadd4   \tGadd4add9\tGadd9   \tGaug    \tGdim    \tGsus    \tGsus2   \tGsus4   \t\n"
     ]
    }
   ],
   "source": [
    "# what are all of the chords (tokens)?\n",
    "tokens = set()\n",
    "for _, row in df_clean.iterrows():\n",
    "    tokens |= set(row.chord_progression_C)\n",
    "    \n",
    "# look good enough for me\n",
    "i = 0\n",
    "for token in sorted(list(tokens)):\n",
    "    print(f'{token:8}', end='\\t')\n",
    "    i += 1\n",
    "    if i%8 == 0:\n",
    "        print()"
   ]
  },
  {
   "cell_type": "code",
   "execution_count": 15,
   "id": "796e69a4",
   "metadata": {},
   "outputs": [
    {
     "data": {
      "text/plain": [
       "104"
      ]
     },
     "execution_count": 15,
     "metadata": {},
     "output_type": "execute_result"
    }
   ],
   "source": [
    "# how many tokens?\n",
    "len(tokens)"
   ]
  }
 ],
 "metadata": {
  "kernelspec": {
   "display_name": "Python 3 (ipykernel)",
   "language": "python",
   "name": "python3"
  },
  "language_info": {
   "codemirror_mode": {
    "name": "ipython",
    "version": 3
   },
   "file_extension": ".py",
   "mimetype": "text/x-python",
   "name": "python",
   "nbconvert_exporter": "python",
   "pygments_lexer": "ipython3",
   "version": "3.9.7"
  }
 },
 "nbformat": 4,
 "nbformat_minor": 5
}
