{
 "cells": [
  {
   "cell_type": "code",
   "execution_count": 1,
   "id": "05a86692",
   "metadata": {},
   "outputs": [],
   "source": [
    "import pandas as pd\n",
    "\n",
    "import torch\n",
    "import torch.nn as nn\n",
    "import torch.optim as optim\n",
    "from torch.utils.data import DataLoader, TensorDataset\n",
    "from torch.nn.utils.rnn import pad_sequence"
   ]
  },
  {
   "cell_type": "code",
   "execution_count": 2,
   "id": "582ea7b1",
   "metadata": {
    "scrolled": false
   },
   "outputs": [],
   "source": [
    "# import chord progressions\n",
    "chord_progressions = pd.DataFrame(pd.read_pickle('chord_progressions.pickle')).reset_index(drop=True).rename({'chord_progression_C':'progression'}, axis=1)\n",
    "\n",
    "# add end of progression token to each progression\n",
    "def append_end(progression):\n",
    "    progression.append('<EOS>')\n",
    "    return progression\n",
    "\n",
    "chord_progressions['progression'] = chord_progressions['progression'].apply(lambda x: x + ['<EOS>'])"
   ]
  },
  {
   "cell_type": "code",
   "execution_count": 3,
   "id": "4d08a516",
   "metadata": {},
   "outputs": [
    {
     "name": "stdout",
     "output_type": "stream",
     "text": [
      "<EOS>   \tAm      \tAm/E    \tAm/F    \tAm11    \tAm6     \tAm7     \tAm7/C   \t\n",
      "Am7/G   \tAm7add11\tAm9     \tAmadd9  \tAmaj7   \tAmaj7sus2\tAmaj9   \tAmmaj7  \t\n",
      "Bm      \tBm11    \tBm6     \tBm7     \tBm7b5   \tBm9     \tBmaj7   \tBmmaj7  \t\n",
      "C       \tC/E     \tC/G     \tC2      \tC4      \tC5      \tC6      \tC6add11 \t\n",
      "C7      \tC7add11 \tC7sus2  \tC7sus4  \tC9      \tCadd#11 \tCadd11  \tCadd2   \t\n",
      "Cadd4   \tCadd9   \tCaug    \tCflat5  \tCsus    \tCsus2   \tCsus4   \tDdim    \t\n",
      "Dm      \tDm11    \tDm13    \tDm6     \tDm6/F   \tDm7     \tDm7/G   \tDm7add11\t\n",
      "Dm7b5   \tDm9     \tDmadd9  \tDmaj    \tDmaj7   \tDmaj9   \tE       \tE5      \t\n",
      "E6      \tE7      \tE7b13   \tE7b9    \tE7sus   \tE7sus4  \tE9sus4  \tEdim    \t\n",
      "Em      \tEm6     \tEm7     \tEm9     \tEmadd9  \tEmaj7   \tEsus2   \tEsus4   \t\n",
      "F       \tF/G     \tF2      \tF5      \tF6      \tF6add9  \tF6sus2  \tF7      \t\n",
      "F7sus4  \tF9      \tF9b5    \tFadd#11 \tFadd2   \tFadd4   \tFadd9   \tFflat5  \t\n",
      "Fsus    \tFsus2   \tFsus4   \tG       \tG#m     \tG#m7    \tG#maj7  \tG/C     \t\n",
      "G11     \tG13     \tG2      \tG4      \tG5      \tG6      \tG6add11 \tG6sus2  \t\n",
      "G7      \tG7b9    \tG7sus   \tG7sus2  \tG7sus4  \tG9      \tGadd11  \tGadd4   \t\n",
      "Gadd4add9\tGadd9   \tGaug    \tGsus    \tGsus2   \tGsus4   \t\n",
      "\n",
      "Number of Tokens:  126\n"
     ]
    }
   ],
   "source": [
    "# tokens\n",
    "tokens = set()\n",
    "for progression in chord_progressions.progression:\n",
    "    tokens |= set(progression)\n",
    "tokens = sorted(list(tokens))    \n",
    "    \n",
    "# examine tokens\n",
    "i = 0\n",
    "for token in tokens:\n",
    "    print(f'{token:8}', end='\\t')\n",
    "    i += 1\n",
    "    if i%8 == 0:\n",
    "        print()\n",
    "        \n",
    "print('\\n')\n",
    "print('Number of Tokens: ', len(tokens))"
   ]
  },
  {
   "cell_type": "code",
   "execution_count": 4,
   "id": "0884d072",
   "metadata": {},
   "outputs": [],
   "source": [
    "# tokenizing / encoding\n",
    "\n",
    "encoder = dict()\n",
    "idx = 0\n",
    "for token in tokens:\n",
    "    encoder[token] = idx\n",
    "    idx += 1\n",
    "    \n",
    "decoder = {v:k for k,v in encoder.items()}\n",
    "\n",
    "chord_progressions['encoded'] = chord_progressions.applymap(lambda cell: [encoder[chord] for chord in cell])"
   ]
  },
  {
   "cell_type": "code",
   "execution_count": 6,
   "id": "2a8744da",
   "metadata": {},
   "outputs": [
    {
     "data": {
      "text/plain": [
       "11"
      ]
     },
     "execution_count": 6,
     "metadata": {},
     "output_type": "execute_result"
    }
   ],
   "source": [
    "# max chords in progression -> sequence_length\n",
    "\n",
    "sequence_length = chord_progressions.progression.str.len().max()\n",
    "sequence_length"
   ]
  },
  {
   "cell_type": "code",
   "execution_count": 7,
   "id": "2091e09f",
   "metadata": {},
   "outputs": [
    {
     "data": {
      "text/plain": [
       "(594128, 594128)"
      ]
     },
     "execution_count": 7,
     "metadata": {},
     "output_type": "execute_result"
    }
   ],
   "source": [
    "# preprocessing\n",
    "\n",
    "def zero_pad(lst, N=10):\n",
    "    lst += [0] * (N - len(lst))\n",
    "    return lst\n",
    "\n",
    "def create_sliding_window_sequences(chord_progressions, window_size_min, window_size_max, zero_padding=10):\n",
    "    X, y = [], []\n",
    "    \n",
    "    for window_size in range(window_size_min, window_size_max+1):\n",
    "        for progression in chord_progressions:\n",
    "            if len(progression) > window_size:\n",
    "                for i in range(len(progression) - window_size):\n",
    "                    seq = progression[i:i + window_size]\n",
    "                    next_chord = progression[i + window_size]\n",
    "\n",
    "                    X.append(zero_pad(seq, zero_padding))\n",
    "                    y.append(next_chord)\n",
    "\n",
    "    return X, y\n",
    "\n",
    "X, y = create_sliding_window_sequences(chord_progressions['encoded'], 3, sequence_length-1, zero_padding=sequence_length)\n",
    "len(X), len(y)"
   ]
  },
  {
   "cell_type": "code",
   "execution_count": 9,
   "id": "6dc5cff9",
   "metadata": {},
   "outputs": [
    {
     "data": {
      "text/plain": [
       "'3.9 MB'"
      ]
     },
     "execution_count": 9,
     "metadata": {},
     "output_type": "execute_result"
    }
   ],
   "source": [
    "# # Transformer Model - PyTorch\n",
    "\n",
    "# Create a PyTorch dataset\n",
    "X_tensor = torch.LongTensor(X)  # X is a list of input sequences\n",
    "y_tensor = torch.LongTensor(y)  # y is a list of target chords\n",
    "dataset = TensorDataset(X_tensor, y_tensor)  # X_tensor and y_tensor should be your training data tensors\n",
    "\n",
    "# Create a PyTorch data loader\n",
    "batch_size = 32\n",
    "data_loader = DataLoader(dataset, batch_size=batch_size, shuffle=True)\n",
    "\n",
    "# Define model hyperparameters\n",
    "d_model = 64  # Size of the model embedding\n",
    "nhead = 4  # Number of attention heads\n",
    "num_layers = 3  # Number of transformer layers\n",
    "dim_feedforward = 128  # Size of the feedforward network\n",
    "vocab_size = len(tokens)\n",
    "\n",
    "# Define the model\n",
    "class ChordTransformer(nn.Module):\n",
    "    def __init__(self, vocab_size, d_model, nhead, num_layers, dim_feedforward):\n",
    "        super(ChordTransformer, self).__init__()\n",
    "        self.embedding = nn.Embedding(vocab_size, d_model)\n",
    "        self.transformer = nn.Transformer(d_model, nhead, num_layers, dim_feedforward)\n",
    "        self.fc = nn.Linear(d_model, vocab_size)\n",
    "        \n",
    "    def forward(self, x):\n",
    "        x = self.embedding(x)\n",
    "        x = self.transformer(x, x)\n",
    "        x = self.fc(x)\n",
    "        return x\n",
    "    \n",
    "# Estimate total memory used\n",
    "total_memory_for_parameters = 2 * ((vocab_size * d_model * 4) + (d_model * vocab_size * 4))\n",
    "f'{10 * total_memory_for_parameters * batch_size // (1024*1024) / 10} MB'"
   ]
  },
  {
   "cell_type": "code",
   "execution_count": 10,
   "id": "4ff302af",
   "metadata": {},
   "outputs": [],
   "source": [
    "# Initialize model, loss, and optimizer\n",
    "model = ChordTransformer(len(encoder), d_model, nhead, num_layers, dim_feedforward)\n",
    "criterion = nn.CrossEntropyLoss()\n",
    "optimizer = optim.Adam(model.parameters(), lr=0.001)"
   ]
  },
  {
   "cell_type": "code",
   "execution_count": null,
   "id": "881fbc2b",
   "metadata": {},
   "outputs": [],
   "source": [
    "# TODO:\n",
    "#  fix the math error - batch size =wrong= batch size * # X columns\n",
    "#  get the training going with CUDA\n",
    "#  figure out how to save, run, save, change lr, run, save, etc"
   ]
  },
  {
   "cell_type": "code",
   "execution_count": null,
   "id": "d0317667",
   "metadata": {},
   "outputs": [],
   "source": [
    "%%time\n",
    "\n",
    "# Training loop with batch processing\n",
    "epochs = 100\n",
    "for epoch in range(epochs):\n",
    "    for batch_idx, (X_batch, y_batch) in enumerate(data_loader):\n",
    "        optimizer.zero_grad()\n",
    "        output = model(X_batch)\n",
    "        loss = criterion(output.view(-1, len(encoder)), y_batch.view(-1))\n",
    "        loss.backward()\n",
    "        optimizer.step()\n",
    "\n",
    "    print(f'Epoch [{epoch+1}/{epochs}], Loss: {loss.item():.4f}')\n"
   ]
  },
  {
   "cell_type": "code",
   "execution_count": null,
   "id": "f8714fa6",
   "metadata": {},
   "outputs": [],
   "source": []
  }
 ],
 "metadata": {
  "kernelspec": {
   "display_name": "Python 3 (ipykernel)",
   "language": "python",
   "name": "python3"
  },
  "language_info": {
   "codemirror_mode": {
    "name": "ipython",
    "version": 3
   },
   "file_extension": ".py",
   "mimetype": "text/x-python",
   "name": "python",
   "nbconvert_exporter": "python",
   "pygments_lexer": "ipython3",
   "version": "3.9.7"
  }
 },
 "nbformat": 4,
 "nbformat_minor": 5
}
