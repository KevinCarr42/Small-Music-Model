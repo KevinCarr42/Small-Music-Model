{
 "cells": [
  {
   "cell_type": "code",
   "execution_count": 1,
   "id": "05a86692",
   "metadata": {},
   "outputs": [],
   "source": [
    "import pandas as pd\n",
    "import numpy as np\n",
    "import pickle\n",
    "import torch\n",
    "import torch.nn as nn\n",
    "import torch.optim as optim\n",
    "from torch.utils.data import DataLoader, TensorDataset\n",
    "from torch.nn.utils.rnn import pad_sequence"
   ]
  },
  {
   "cell_type": "code",
   "execution_count": 2,
   "id": "b2a2401b",
   "metadata": {},
   "outputs": [],
   "source": [
    "# import training and validation data\n",
    "train_data = np.memmap('train.bin', dtype=np.uint16, mode='r')\n",
    "val_data = np.memmap('val.bin', dtype=np.uint16, mode='r')\n",
    "with open('encoder.pickle', 'rb') as f:\n",
    "    encoder = pickle.load(f)\n",
    "decoder = {v:k for k,v in encoder.items()}"
   ]
  },
  {
   "cell_type": "markdown",
   "id": "a4a612ad",
   "metadata": {},
   "source": [
    "### TODO:\n",
    "* Transformer Model\n",
    "    * update using https://github.com/karpathy/nanoGPT\n",
    "  * old todo\n",
    "    * fix the math error in hyperparameters - batch size =wrong= batch size * # X columns\n",
    "    * figure out how to save, run, change lr, resume, etc\n",
    "    * OPTIONAL: set up CUDA"
   ]
  },
  {
   "cell_type": "code",
   "execution_count": null,
   "id": "af1eed59",
   "metadata": {},
   "outputs": [],
   "source": []
  },
  {
   "cell_type": "code",
   "execution_count": null,
   "id": "0602808b",
   "metadata": {},
   "outputs": [],
   "source": []
  },
  {
   "cell_type": "code",
   "execution_count": null,
   "id": "a6bfd6cb",
   "metadata": {},
   "outputs": [],
   "source": []
  },
  {
   "cell_type": "code",
   "execution_count": null,
   "id": "2aa4e808",
   "metadata": {},
   "outputs": [],
   "source": []
  },
  {
   "cell_type": "code",
   "execution_count": null,
   "id": "dfa5378e",
   "metadata": {},
   "outputs": [],
   "source": []
  },
  {
   "cell_type": "markdown",
   "id": "22b8cf27",
   "metadata": {},
   "source": [
    "### old transformer model (build by chatgpt / doesn't work)"
   ]
  },
  {
   "cell_type": "code",
   "execution_count": 3,
   "id": "e9ddbb68",
   "metadata": {},
   "outputs": [
    {
     "ename": "NameError",
     "evalue": "name 'ThisDoesntWorkYetException' is not defined",
     "output_type": "error",
     "traceback": [
      "\u001b[1;31m---------------------------------------------------------------------------\u001b[0m",
      "\u001b[1;31mNameError\u001b[0m                                 Traceback (most recent call last)",
      "\u001b[1;32m~\\AppData\\Local\\Temp/ipykernel_1988/3928030156.py\u001b[0m in \u001b[0;36m<module>\u001b[1;34m\u001b[0m\n\u001b[1;32m----> 1\u001b[1;33m \u001b[1;32mraise\u001b[0m \u001b[0mThisDoesntWorkYetException\u001b[0m\u001b[1;33m\u001b[0m\u001b[1;33m\u001b[0m\u001b[0m\n\u001b[0m",
      "\u001b[1;31mNameError\u001b[0m: name 'ThisDoesntWorkYetException' is not defined"
     ]
    }
   ],
   "source": [
    "raise ThisDoesntWorkYetException"
   ]
  },
  {
   "cell_type": "code",
   "execution_count": null,
   "id": "2091e09f",
   "metadata": {},
   "outputs": [],
   "source": [
    "# Preprocessing\n",
    "\n",
    "def zero_pad(lst, N=10):\n",
    "    lst += [0] * (N - len(lst))\n",
    "    return lst\n",
    "\n",
    "def create_sliding_window_sequences(chord_progressions, window_size_min, window_size_max, zero_padding=10):\n",
    "    X, y = [], []\n",
    "    \n",
    "    for window_size in range(window_size_min, window_size_max+1):\n",
    "        for progression in chord_progressions:\n",
    "            if len(progression) > window_size:\n",
    "                for i in range(len(progression) - window_size):\n",
    "                    seq = progression[i:i + window_size]\n",
    "                    next_chord = progression[i + window_size]\n",
    "\n",
    "                    X.append(zero_pad(seq, zero_padding))\n",
    "                    y.append(next_chord)\n",
    "\n",
    "    return X, y\n",
    "\n",
    "X, y = create_sliding_window_sequences(chord_progressions['encoded'], 3, sequence_length-1, zero_padding=sequence_length)\n",
    "len(X), len(y)"
   ]
  },
  {
   "cell_type": "code",
   "execution_count": null,
   "id": "6dc5cff9",
   "metadata": {},
   "outputs": [],
   "source": [
    "# Transformer Model - PyTorch\n",
    "\n",
    "# Create a PyTorch dataset\n",
    "X_tensor = torch.LongTensor(X)  # X is a list of input sequences\n",
    "y_tensor = torch.LongTensor(y)  # y is a list of target chords\n",
    "dataset = TensorDataset(X_tensor, y_tensor)\n",
    "\n",
    "# Create a PyTorch data loader\n",
    "batch_size = 32\n",
    "data_loader = DataLoader(dataset, batch_size=batch_size, shuffle=True)\n",
    "\n",
    "# Define model hyperparameters\n",
    "d_model = 64  # Size of the model embedding\n",
    "nhead = 4  # Number of attention heads\n",
    "num_layers = 3  # Number of transformer layers\n",
    "dim_feedforward = 128  # Size of the feedforward network\n",
    "vocab_size = len(tokens)\n",
    "\n",
    "# Define the model\n",
    "class ChordTransformer(nn.Module):\n",
    "    def __init__(self, vocab_size, d_model, nhead, num_layers, dim_feedforward):\n",
    "        super(ChordTransformer, self).__init__()\n",
    "        self.embedding = nn.Embedding(vocab_size, d_model)\n",
    "        self.transformer = nn.Transformer(d_model, nhead, num_layers, dim_feedforward)\n",
    "        self.fc = nn.Linear(d_model, vocab_size)\n",
    "        \n",
    "    def forward(self, x):\n",
    "        x = self.embedding(x)\n",
    "        x = self.transformer(x, x)\n",
    "        x = self.fc(x)\n",
    "        return x\n",
    "    \n",
    "# Estimate total memory used\n",
    "total_memory_for_parameters = 2 * ((vocab_size * d_model * 4) + (d_model * vocab_size * 4))\n",
    "f'{10 * total_memory_for_parameters * batch_size // (1024*1024) / 10} MB'"
   ]
  },
  {
   "cell_type": "code",
   "execution_count": null,
   "id": "4ff302af",
   "metadata": {},
   "outputs": [],
   "source": [
    "# Initialize model, loss, and optimizer\n",
    "\n",
    "model = ChordTransformer(len(encoder), d_model, nhead, num_layers, dim_feedforward)\n",
    "criterion = nn.CrossEntropyLoss()\n",
    "optimizer = optim.Adam(model.parameters(), lr=0.001)"
   ]
  },
  {
   "cell_type": "code",
   "execution_count": null,
   "id": "d0317667",
   "metadata": {},
   "outputs": [],
   "source": [
    "%%time\n",
    "\n",
    "# Training loop with batch processing\n",
    "epochs = 100\n",
    "for epoch in range(epochs):\n",
    "    for batch_idx, (X_batch, y_batch) in enumerate(data_loader):\n",
    "        optimizer.zero_grad()\n",
    "        output = model(X_batch)\n",
    "        loss = criterion(output.view(-1, len(encoder)), y_batch.view(-1))\n",
    "        loss.backward()\n",
    "        optimizer.step()\n",
    "\n",
    "    print(f'Epoch [{epoch+1}/{epochs}], Loss: {loss.item():.4f}')\n"
   ]
  },
  {
   "cell_type": "code",
   "execution_count": null,
   "id": "f8714fa6",
   "metadata": {},
   "outputs": [],
   "source": []
  }
 ],
 "metadata": {
  "kernelspec": {
   "display_name": "Python 3 (ipykernel)",
   "language": "python",
   "name": "python3"
  },
  "language_info": {
   "codemirror_mode": {
    "name": "ipython",
    "version": 3
   },
   "file_extension": ".py",
   "mimetype": "text/x-python",
   "name": "python",
   "nbconvert_exporter": "python",
   "pygments_lexer": "ipython3",
   "version": "3.9.7"
  }
 },
 "nbformat": 4,
 "nbformat_minor": 5
}
