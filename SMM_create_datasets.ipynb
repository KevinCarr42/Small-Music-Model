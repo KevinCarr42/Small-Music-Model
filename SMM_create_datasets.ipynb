{
 "cells": [
  {
   "cell_type": "code",
   "execution_count": 1,
   "id": "32ff03cd",
   "metadata": {},
   "outputs": [],
   "source": [
    "import torch\n",
    "import pickle\n",
    "from model import *\n",
    "import pandas as pd\n",
    "import numpy as np"
   ]
  },
  {
   "cell_type": "code",
   "execution_count": 2,
   "id": "282494b1",
   "metadata": {},
   "outputs": [],
   "source": [
    "# load the models\n",
    "m1k = torch.load('data/SmallMusicModel_1000steps_lr3.pth')  # 1000 training steps, lr=1e-3\n",
    "m1k.eval();\n",
    "m10k = torch.load('data/SmallMusicModel_10000steps_lr3_overfit.pth')  # 10000 training steps, lr=1e-3, overfit\n",
    "m10k.eval();\n",
    "m4 = torch.load('data/SmallMusicModel_10000steps_lr4.pth')  # 10000 training steps, lr=1e-4\n",
    "m4.eval();\n",
    "m4u = torch.load('data/SmallMusicModel_1000steps_lr4_underfit.pth')  # 1000 training steps, lr=1e-4, underfit\n",
    "m4u.eval();\n",
    "\n",
    "# make a list of the machine learning models\n",
    "ml_models = [m1k, m10k, m4, m4u]"
   ]
  },
  {
   "cell_type": "code",
   "execution_count": 3,
   "id": "6e54264b",
   "metadata": {},
   "outputs": [],
   "source": [
    "# decoder\n",
    "with open('data/encoder.pickle', 'rb') as f:\n",
    "    encoder = pickle.load(f)\n",
    "decoder = {v:k for k,v in encoder.items()}\n",
    "\n",
    "# generate from the model\n",
    "def new_tokens(model=ml_models[0], n=100, random_start=False):\n",
    "    random_token = np.random.choice(list(decoder.keys())) if random_start else 2\n",
    "    context = torch.tensor([[random_token]], dtype=torch.long, device=device)\n",
    "    return model.generate(context, max_new_tokens=n)[0].tolist()\n",
    "\n",
    "# decoder (prints and returns for different uses)\n",
    "def decode(generated_list, print_list=True, return_list=False):\n",
    "    decoded_list = [decoder[x] for x in generated_list]\n",
    "    output_list = []\n",
    "    temp_list = []\n",
    "    for token in decoded_list:\n",
    "        if token == '<EOS>':\n",
    "            if len(temp_list) > 1 and len(temp_list) < 9:  # ignore short and long progressions\n",
    "                output_list += [temp_list]\n",
    "            temp_list = []\n",
    "        else:\n",
    "            temp_list.append(token)\n",
    "    if print_list:\n",
    "        for progression in output_list:\n",
    "            for token in progression:\n",
    "                print(f'{token}', end='  ')\n",
    "            print()\n",
    "    return output_list if return_list else None\n",
    "\n",
    "def generate(model=ml_models[0], n=100, print_list=True, return_list=False):\n",
    "    \"\"\"generates approximately n tokens worth of chord progressions\"\"\"\n",
    "    return decode(new_tokens(model=model, n=n), print_list=print_list, return_list=return_list)\n",
    "\n",
    "def create_chord_progressions(model=ml_models[0], n=1000):\n",
    "    # relatively slow: >2s / 100 tokens, batches of 1000 would be about 22s each\n",
    "    list_of_lists = generate(model=model, n=n, print_list=False, return_list=True)\n",
    "    return pd.DataFrame({'chord_progression': list_of_lists})"
   ]
  },
  {
   "cell_type": "code",
   "execution_count": 4,
   "id": "80da99c0",
   "metadata": {},
   "outputs": [
    {
     "data": {
      "text/plain": [
       "16348"
      ]
     },
     "execution_count": 4,
     "metadata": {},
     "output_type": "execute_result"
    }
   ],
   "source": [
    "# how many chord progressions does our training set have?\n",
    "df_train = pd.read_pickle('data/df_clean.pickle')[['song', 'artist', 'chord_progression_C']].rename({'chord_progression_C': 'chord_progression'}, axis=1)\n",
    "df_train = df_train[(df_train.chord_progression.apply(len) > 1) & (df_train.chord_progression.apply(len) < 9)].reset_index(drop=True)\n",
    "len_dataset = df_train.shape[0]\n",
    "len_dataset"
   ]
  },
  {
   "cell_type": "code",
   "execution_count": 5,
   "id": "9f5bc21f",
   "metadata": {},
   "outputs": [],
   "source": [
    "# create data for exploratory data analysis\n",
    "def create_data(model=ml_models[0], total_rows=len_dataset):\n",
    "    df = create_chord_progressions(model=model)\n",
    "    counter = 0\n",
    "    n_update = 5\n",
    "    while df.shape[0] < 17600:\n",
    "        if counter % n_update == 0:  # status update\n",
    "            print(df.shape[0], 'chord progressions generated')\n",
    "        df = pd.concat([df, create_chord_progressions(model=model)])\n",
    "        counter += 1\n",
    "    return df"
   ]
  },
  {
   "cell_type": "code",
   "execution_count": 6,
   "id": "e5abfe14",
   "metadata": {},
   "outputs": [
    {
     "name": "stdout",
     "output_type": "stream",
     "text": [
      "192 chord progressions generated\n",
      "1133 chord progressions generated\n",
      "2066 chord progressions generated\n",
      "3031 chord progressions generated\n",
      "3947 chord progressions generated\n",
      "4906 chord progressions generated\n",
      "5831 chord progressions generated\n",
      "6768 chord progressions generated\n",
      "7701 chord progressions generated\n",
      "8663 chord progressions generated\n",
      "9599 chord progressions generated\n",
      "10563 chord progressions generated\n",
      "11512 chord progressions generated\n",
      "12452 chord progressions generated\n",
      "13399 chord progressions generated\n",
      "14337 chord progressions generated\n",
      "15286 chord progressions generated\n",
      "16203 chord progressions generated\n",
      "17148 chord progressions generated\n",
      "Wall time: 27min 56s\n"
     ]
    }
   ],
   "source": [
    "%%time\n",
    "df_m1k = create_data(m1k)\n",
    "df_m1k.to_pickle('data/df_m1k.pickle')"
   ]
  },
  {
   "cell_type": "code",
   "execution_count": 7,
   "id": "870f39de",
   "metadata": {
    "scrolled": false
   },
   "outputs": [
    {
     "name": "stdout",
     "output_type": "stream",
     "text": [
      "174 chord progressions generated\n",
      "1008 chord progressions generated\n",
      "1877 chord progressions generated\n",
      "2737 chord progressions generated\n",
      "3596 chord progressions generated\n",
      "4461 chord progressions generated\n",
      "5313 chord progressions generated\n",
      "6154 chord progressions generated\n",
      "7006 chord progressions generated\n",
      "7868 chord progressions generated\n",
      "8722 chord progressions generated\n",
      "9600 chord progressions generated\n",
      "10457 chord progressions generated\n",
      "11293 chord progressions generated\n",
      "12185 chord progressions generated\n",
      "13046 chord progressions generated\n",
      "13907 chord progressions generated\n",
      "14786 chord progressions generated\n",
      "15646 chord progressions generated\n",
      "16507 chord progressions generated\n",
      "17363 chord progressions generated\n",
      "Wall time: 30min 12s\n"
     ]
    }
   ],
   "source": [
    "%%time\n",
    "df_m10k = create_data(m10k)\n",
    "df_m10k.to_pickle('data/df_m10k.pickle')"
   ]
  },
  {
   "cell_type": "code",
   "execution_count": 8,
   "id": "cdbd4117",
   "metadata": {},
   "outputs": [
    {
     "name": "stdout",
     "output_type": "stream",
     "text": [
      "183 chord progressions generated\n",
      "1064 chord progressions generated\n",
      "1963 chord progressions generated\n",
      "2862 chord progressions generated\n",
      "3746 chord progressions generated\n",
      "4651 chord progressions generated\n",
      "5545 chord progressions generated\n",
      "6435 chord progressions generated\n",
      "7328 chord progressions generated\n",
      "8222 chord progressions generated\n",
      "9122 chord progressions generated\n",
      "10017 chord progressions generated\n",
      "10904 chord progressions generated\n",
      "11781 chord progressions generated\n",
      "12657 chord progressions generated\n",
      "13551 chord progressions generated\n",
      "14428 chord progressions generated\n",
      "15309 chord progressions generated\n",
      "16185 chord progressions generated\n",
      "17081 chord progressions generated\n",
      "Wall time: 29min 2s\n"
     ]
    }
   ],
   "source": [
    "%%time\n",
    "df_m4 = create_data(m4)\n",
    "df_m4.to_pickle('data/df_m4.pickle')"
   ]
  },
  {
   "cell_type": "code",
   "execution_count": 9,
   "id": "853aeaab",
   "metadata": {},
   "outputs": [
    {
     "name": "stdout",
     "output_type": "stream",
     "text": [
      "191 chord progressions generated\n",
      "1163 chord progressions generated\n",
      "2100 chord progressions generated\n",
      "3056 chord progressions generated\n",
      "3998 chord progressions generated\n",
      "4941 chord progressions generated\n",
      "5880 chord progressions generated\n",
      "6840 chord progressions generated\n",
      "7778 chord progressions generated\n",
      "8718 chord progressions generated\n",
      "9682 chord progressions generated\n",
      "10633 chord progressions generated\n",
      "11588 chord progressions generated\n",
      "12519 chord progressions generated\n",
      "13481 chord progressions generated\n",
      "14417 chord progressions generated\n",
      "15366 chord progressions generated\n",
      "16302 chord progressions generated\n",
      "17259 chord progressions generated\n",
      "Wall time: 27min 37s\n"
     ]
    }
   ],
   "source": [
    "%%time\n",
    "df_m4u = create_data(m4u)\n",
    "df_m4u.to_pickle('data/df_m4u.pickle')"
   ]
  },
  {
   "cell_type": "code",
   "execution_count": null,
   "id": "9d586b20",
   "metadata": {},
   "outputs": [],
   "source": []
  }
 ],
 "metadata": {
  "kernelspec": {
   "display_name": "Python 3 (ipykernel)",
   "language": "python",
   "name": "python3"
  },
  "language_info": {
   "codemirror_mode": {
    "name": "ipython",
    "version": 3
   },
   "file_extension": ".py",
   "mimetype": "text/x-python",
   "name": "python",
   "nbconvert_exporter": "python",
   "pygments_lexer": "ipython3",
   "version": "3.9.7"
  }
 },
 "nbformat": 4,
 "nbformat_minor": 5
}
