{
 "cells": [
  {
   "cell_type": "code",
   "execution_count": 1,
   "id": "05a86692",
   "metadata": {},
   "outputs": [],
   "source": [
    "import pandas as pd\n",
    "import numpy as np\n",
    "import pickle\n",
    "import torch\n",
    "import torch.nn as nn\n",
    "from torch.nn import functional as F\n",
    "from model import *"
   ]
  },
  {
   "cell_type": "code",
   "execution_count": 2,
   "id": "b2a2401b",
   "metadata": {},
   "outputs": [],
   "source": [
    "# import training and validation data (encoded data)\n",
    "train_data = torch.tensor(np.fromfile('data/train.bin', dtype=np.int16), dtype=torch.long)\n",
    "val_data = torch.tensor(np.fromfile('data/val.bin', dtype=np.int16), dtype=torch.long)"
   ]
  },
  {
   "cell_type": "code",
   "execution_count": 3,
   "id": "ae805c3b",
   "metadata": {},
   "outputs": [],
   "source": [
    "# data loading\n",
    "def get_batch(split):\n",
    "    # generate a small batch of data of inputs x and targets y\n",
    "    data = train_data if split == 'train' else val_data\n",
    "    ix = torch.randint(len(data) - block_size, (batch_size,))\n",
    "    x = torch.stack([data[i:i+block_size] for i in ix])\n",
    "    y = torch.stack([data[i+1:i+block_size+1] for i in ix])\n",
    "    x, y = x.to(device), y.to(device)\n",
    "    return x, y\n",
    "\n",
    "@torch.no_grad()\n",
    "def estimate_loss():\n",
    "    out = {}\n",
    "    model.eval()\n",
    "    for split in ['train', 'val']:\n",
    "        losses = torch.zeros(eval_iters)\n",
    "        for k in range(eval_iters):\n",
    "            X, Y = get_batch(split)\n",
    "            logits, loss = model(X, Y)\n",
    "            losses[k] = loss.item()\n",
    "        out[split] = losses.mean()\n",
    "    model.train()\n",
    "    return out"
   ]
  },
  {
   "cell_type": "code",
   "execution_count": 6,
   "id": "fd69f9df",
   "metadata": {
    "scrolled": false
   },
   "outputs": [
    {
     "name": "stdout",
     "output_type": "stream",
     "text": [
      "1.216384 M parameters\n",
      "step 0: train loss 4.9924, val loss 4.9957\n",
      "step 100: train loss 2.1849, val loss 2.1959\n",
      "step 200: train loss 2.0204, val loss 2.0281\n",
      "step 300: train loss 1.9340, val loss 1.9511\n",
      "step 400: train loss 1.8781, val loss 1.8959\n",
      "step 500: train loss 1.8440, val loss 1.8621\n",
      "step 600: train loss 1.8219, val loss 1.8460\n",
      "step 700: train loss 1.8031, val loss 1.8284\n",
      "step 800: train loss 1.7789, val loss 1.8096\n",
      "step 900: train loss 1.7666, val loss 1.7937\n",
      "step 999: train loss 1.7535, val loss 1.7806\n",
      "Wall time: 2min 45s\n"
     ]
    }
   ],
   "source": [
    "%%time\n",
    "\n",
    "model = GPTLanguageModel()\n",
    "m = model.to(device)\n",
    "\n",
    "# print the number of parameters in the model\n",
    "print(sum(p.numel() for p in m.parameters())/1e6, 'M parameters')\n",
    "\n",
    "# create a PyTorch optimizer\n",
    "optimizer = torch.optim.AdamW(model.parameters(), lr=learning_rate)\n",
    "\n",
    "num_steps = 1000\n",
    "for step in range(num_steps):\n",
    "\n",
    "    # every once in a while evaluate the loss on train and val sets\n",
    "    if step % eval_interval == 0 or step == num_steps - 1:\n",
    "        losses = estimate_loss()\n",
    "        print(f\"step {step}: train loss {losses['train']:.4f}, val loss {losses['val']:.4f}\")\n",
    "\n",
    "    # sample a batch of data\n",
    "    xb, yb = get_batch('train')\n",
    "\n",
    "    # evaluate the loss\n",
    "    logits, loss = model(xb, yb)\n",
    "    optimizer.zero_grad(set_to_none=True)\n",
    "    loss.backward()\n",
    "    optimizer.step()"
   ]
  },
  {
   "cell_type": "code",
   "execution_count": 7,
   "id": "53195195",
   "metadata": {},
   "outputs": [],
   "source": [
    "# save model\n",
    "torch.save(m, 'data/SmallMusicModel.pth')"
   ]
  },
  {
   "cell_type": "code",
   "execution_count": null,
   "id": "b8c73d5c",
   "metadata": {},
   "outputs": [],
   "source": []
  }
 ],
 "metadata": {
  "kernelspec": {
   "display_name": "Python 3 (ipykernel)",
   "language": "python",
   "name": "python3"
  },
  "language_info": {
   "codemirror_mode": {
    "name": "ipython",
    "version": 3
   },
   "file_extension": ".py",
   "mimetype": "text/x-python",
   "name": "python",
   "nbconvert_exporter": "python",
   "pygments_lexer": "ipython3",
   "version": "3.9.7"
  }
 },
 "nbformat": 4,
 "nbformat_minor": 5
}
