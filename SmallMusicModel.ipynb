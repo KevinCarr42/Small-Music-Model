{
 "cells": [
  {
   "cell_type": "code",
   "execution_count": 1,
   "id": "2d78c25c",
   "metadata": {},
   "outputs": [],
   "source": [
    "import torch\n",
    "import pickle\n",
    "from model import *"
   ]
  },
  {
   "cell_type": "code",
   "execution_count": 2,
   "id": "49def21d",
   "metadata": {},
   "outputs": [],
   "source": [
    "# load the model\n",
    "model = torch.load('SmallMusicModel.pth')\n",
    "model.eval();"
   ]
  },
  {
   "cell_type": "code",
   "execution_count": 3,
   "id": "73200de4",
   "metadata": {},
   "outputs": [],
   "source": [
    "# decoder\n",
    "with open('encoder.pickle', 'rb') as f:\n",
    "    encoder = pickle.load(f)\n",
    "decoder = {v:k for k,v in encoder.items()}\n",
    "\n",
    "# generate from the model\n",
    "def new_tokens(max_new_tokens=100):\n",
    "    context = torch.ones((1, 1), dtype=torch.long, device=device)\n",
    "    return model.generate(context, max_new_tokens=max_new_tokens)[0].tolist()\n",
    "\n",
    "# decoder (prints and returns for different uses)\n",
    "def decode(generated_list, print_list=True, return_list=False):\n",
    "    decoded_list = [decoder[x] for x in generated_list]\n",
    "    output_list = []\n",
    "    temp_list = []\n",
    "    for token in decoded_list:\n",
    "        if token == '<EOS>':\n",
    "            if len(temp_list) > 1 and len(temp_list) < 8:  # no silly chord progressions\n",
    "                output_list += [temp_list]\n",
    "            temp_list = []\n",
    "        else:\n",
    "            temp_list.append(token)\n",
    "    if print_list:\n",
    "        for progression in output_list:\n",
    "            for token in progression:\n",
    "                print(f'{token}', end='  ')\n",
    "            print()\n",
    "    return output_list if return_list else None\n",
    "\n",
    "def generate(n=100):\n",
    "    \"\"\"generates approximately n tokens worth of chord progressions\"\"\"\n",
    "    return decode(new_tokens(n))"
   ]
  },
  {
   "cell_type": "code",
   "execution_count": 4,
   "id": "92169745",
   "metadata": {
    "scrolled": false
   },
   "outputs": [
    {
     "name": "stdout",
     "output_type": "stream",
     "text": [
      "Adim7  E7b9  \n",
      "C  G  C  \n",
      "C  G  Am  F  G  \n",
      "C  Am7  Fadd9  G  \n",
      "F  C  G  \n",
      "C  F  G  C  \n",
      "C  F  G  C  \n",
      "C  Am  G  F  \n",
      "F  G  Am  G  \n",
      "Am  F  C  G  \n",
      "E  C7  \n",
      "Am  F  C  G  \n",
      "C  Dm  G7  \n",
      "C  G  Am  G  F  \n",
      "F  C  G  Am  \n",
      "Am  C  G  \n",
      "C  Am  Dm  F  \n"
     ]
    }
   ],
   "source": [
    "# look at some output (1000 training steps)\n",
    "generate()"
   ]
  },
  {
   "cell_type": "code",
   "execution_count": 4,
   "id": "8d284eb9",
   "metadata": {},
   "outputs": [
    {
     "name": "stdout",
     "output_type": "stream",
     "text": [
      "Adim7  E7b9  Am7  \n",
      "Am  G  F  C  G  \n",
      "F  C  G  Dm  F  C  G  \n",
      "Dm  Em  F  G  \n",
      "G  Fadd9  C  \n",
      "G  Am  F  G  C  \n",
      "F  C  Gsus4  \n",
      "C  Am  F  \n",
      "C  Am  Dm  G7b9  \n",
      "F  Am  G  \n",
      "Cadd9  C  G  \n",
      "C  G  Dm  F  \n",
      "C  Dm11  Fsus2  \n",
      "C  Am  Dm  F  G  \n",
      "Am  Am7  Am6  Am  F  G  \n",
      "C  Am  G  F  \n",
      "Am  F  C  G  \n"
     ]
    }
   ],
   "source": [
    "# look at some output (10000 training steps / overfit)\n",
    "generate()"
   ]
  },
  {
   "cell_type": "code",
   "execution_count": null,
   "id": "0b09a686",
   "metadata": {},
   "outputs": [],
   "source": []
  }
 ],
 "metadata": {
  "kernelspec": {
   "display_name": "Python 3 (ipykernel)",
   "language": "python",
   "name": "python3"
  },
  "language_info": {
   "codemirror_mode": {
    "name": "ipython",
    "version": 3
   },
   "file_extension": ".py",
   "mimetype": "text/x-python",
   "name": "python",
   "nbconvert_exporter": "python",
   "pygments_lexer": "ipython3",
   "version": "3.9.7"
  }
 },
 "nbformat": 4,
 "nbformat_minor": 5
}
